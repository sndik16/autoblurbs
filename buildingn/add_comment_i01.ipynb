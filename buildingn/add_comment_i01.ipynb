{
 "cells": [
  {
   "cell_type": "code",
   "execution_count": null,
   "id": "7e7263a4",
   "metadata": {},
   "outputs": [],
   "source": [
    "# The purpose of this code is to take a comment and put it into a Youtube video."
   ]
  },
  {
   "cell_type": "code",
   "execution_count": null,
   "id": "4c6034b2",
   "metadata": {},
   "outputs": [],
   "source": [
    "# Let's start with just one specific video."
   ]
  },
  {
   "cell_type": "code",
   "execution_count": null,
   "id": "8206aa8f",
   "metadata": {},
   "outputs": [],
   "source": [
    "# This video\n",
    "# link is\n",
    "# https://youtube.com/shorts/ere65X9oMrA"
   ]
  },
  {
   "cell_type": "code",
   "execution_count": null,
   "id": "c101d8f0",
   "metadata": {},
   "outputs": [],
   "source": [
    "#I know how to print a string, a comment, a sentence, with print command."
   ]
  },
  {
   "cell_type": "code",
   "execution_count": 1,
   "id": "c67d87d1",
   "metadata": {},
   "outputs": [
    {
     "name": "stdout",
     "output_type": "stream",
     "text": [
      "This is my comment.\n"
     ]
    }
   ],
   "source": [
    "print ('This is my comment.')"
   ]
  },
  {
   "cell_type": "code",
   "execution_count": 2,
   "id": "b69ffb25",
   "metadata": {},
   "outputs": [],
   "source": [
    "#Now I want to put this comment into the Youtube Video."
   ]
  },
  {
   "cell_type": "code",
   "execution_count": null,
   "id": "78064668",
   "metadata": {},
   "outputs": [],
   "source": []
  },
  {
   "cell_type": "code",
   "execution_count": null,
   "id": "60baf450",
   "metadata": {},
   "outputs": [],
   "source": [
    "# I make a variable, a string variable, that stores the comment inside it"
   ]
  },
  {
   "cell_type": "code",
   "execution_count": 3,
   "id": "0ef72ebb",
   "metadata": {},
   "outputs": [],
   "source": [
    "my_comment = 'This is my comment.'"
   ]
  },
  {
   "cell_type": "code",
   "execution_count": 4,
   "id": "e712ecec",
   "metadata": {},
   "outputs": [
    {
     "data": {
      "text/plain": [
       "'This is my comment.'"
      ]
     },
     "execution_count": 4,
     "metadata": {},
     "output_type": "execute_result"
    }
   ],
   "source": [
    "my_comment"
   ]
  },
  {
   "cell_type": "code",
   "execution_count": 5,
   "id": "4ceac3c3",
   "metadata": {},
   "outputs": [
    {
     "name": "stdout",
     "output_type": "stream",
     "text": [
      "No Python documentation found for 'This is my comment.'.\n",
      "Use help() to get the interactive help utility.\n",
      "Use help(str) for help on the str class.\n",
      "\n"
     ]
    }
   ],
   "source": [
    "help(my_comment)"
   ]
  },
  {
   "cell_type": "code",
   "execution_count": 7,
   "id": "628dc562",
   "metadata": {},
   "outputs": [
    {
     "data": {
      "text/plain": [
       "str"
      ]
     },
     "execution_count": 7,
     "metadata": {},
     "output_type": "execute_result"
    }
   ],
   "source": [
    "type (my_comment)"
   ]
  },
  {
   "cell_type": "code",
   "execution_count": null,
   "id": "4f9a22d6",
   "metadata": {},
   "outputs": [],
   "source": [
    "# I can print the string variable as well."
   ]
  },
  {
   "cell_type": "code",
   "execution_count": 8,
   "id": "cfa2ee03",
   "metadata": {},
   "outputs": [
    {
     "name": "stdout",
     "output_type": "stream",
     "text": [
      "This is my comment.\n"
     ]
    }
   ],
   "source": [
    "print (my_comment)"
   ]
  },
  {
   "cell_type": "code",
   "execution_count": null,
   "id": "efa1ef24",
   "metadata": {},
   "outputs": [],
   "source": []
  },
  {
   "cell_type": "code",
   "execution_count": null,
   "id": "3e5b5fc9",
   "metadata": {},
   "outputs": [],
   "source": []
  },
  {
   "cell_type": "code",
   "execution_count": 9,
   "id": "589a574e",
   "metadata": {},
   "outputs": [],
   "source": [
    "# Now how can I go into a specific Youtube Video comments section?"
   ]
  },
  {
   "cell_type": "code",
   "execution_count": null,
   "id": "d15536a7",
   "metadata": {},
   "outputs": [],
   "source": []
  },
  {
   "cell_type": "code",
   "execution_count": null,
   "id": "4d559ad1",
   "metadata": {},
   "outputs": [],
   "source": []
  },
  {
   "cell_type": "code",
   "execution_count": null,
   "id": "27e36347",
   "metadata": {},
   "outputs": [],
   "source": []
  }
 ],
 "metadata": {
  "kernelspec": {
   "display_name": "Python 3 (ipykernel)",
   "language": "python",
   "name": "python3"
  },
  "language_info": {
   "codemirror_mode": {
    "name": "ipython",
    "version": 3
   },
   "file_extension": ".py",
   "mimetype": "text/x-python",
   "name": "python",
   "nbconvert_exporter": "python",
   "pygments_lexer": "ipython3",
   "version": "3.8.5"
  }
 },
 "nbformat": 4,
 "nbformat_minor": 5
}
